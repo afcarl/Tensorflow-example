{
 "cells": [
  {
   "cell_type": "code",
   "execution_count": 12,
   "metadata": {
    "collapsed": false,
    "slideshow": {
     "slide_type": "slide"
    }
   },
   "outputs": [],
   "source": [
    "library(deepLearnR)\n",
    "\n",
    "{\n",
    "library(MASS)\n",
    "data(Boston)\n",
    "X <- Boston[,2:14]\n",
    "y <- Boston[,1]\n",
    "TensorFlowDNNRegressor(modelTag=\"tfdnnr-01\", X=X, y=y, steps=5000)\n",
    "pred <- TensorFlow.regressorEval(modelTag=\"tfdnnr-01\")\n",
    "mse <- rPython::python.get(\"mse\")\n",
    "r2 <- rPython::python.get(\"r2\")\n",
    "}"
   ]
  },
  {
   "cell_type": "code",
   "execution_count": 13,
   "metadata": {
    "collapsed": false,
    "slideshow": {
     "slide_type": "slide"
    }
   },
   "outputs": [
    {
     "data": {
      "text/html": [
       "-1.077635512528"
      ],
      "text/latex": [
       "-1.077635512528"
      ],
      "text/markdown": [
       "-1.077635512528"
      ],
      "text/plain": [
       "[1] -1.077636"
      ]
     },
     "execution_count": 13,
     "metadata": {},
     "output_type": "execute_result"
    }
   ],
   "source": [
    "r2"
   ]
  },
  {
   "cell_type": "code",
   "execution_count": 14,
   "metadata": {
    "collapsed": false,
    "scrolled": true
   },
   "outputs": [
    {
     "data": {
      "text/html": [
       "<dl>\n",
       "\t<dt>$slope</dt>\n",
       "\t\t<dd>0.500460505485535</dd>\n",
       "\t<dt>$intercept</dt>\n",
       "\t\t<dd>0.269151866436005</dd>\n",
       "</dl>\n"
      ],
      "text/latex": [
       "\\begin{description}\n",
       "\\item[\\$slope] 0.500460505485535\n",
       "\\item[\\$intercept] 0.269151866436005\n",
       "\\end{description}\n"
      ],
      "text/markdown": [
       "$slope\n",
       ":   0.500460505485535\n",
       "$intercept\n",
       ":   0.269151866436005\n",
       "\n",
       "\n"
      ],
      "text/plain": [
       "$slope\n",
       "[1] 0.5004605\n",
       "\n",
       "$intercept\n",
       "[1] 0.2691519\n"
      ]
     },
     "execution_count": 14,
     "metadata": {},
     "output_type": "execute_result"
    }
   ],
   "source": [
    "{\n",
    "x.vals <- seq(1:100)\n",
    "y.vals <- 0.3 + 0.5 * x.vals\n",
    "lm.tf.fit <- deepLearnR::TensorFlow.SystemLinReg(X = x.vals, Y = y.vals,\n",
    "epochs = 100000, learning.rate = .00005)\n",
    "lm.tf.fit\n",
    "}"
   ]
  }
 ],
 "metadata": {
  "kernelspec": {
   "display_name": "R",
   "language": "R",
   "name": "ir"
  },
  "language_info": {
   "codemirror_mode": "r",
   "file_extension": ".r",
   "mimetype": "text/x-r-source",
   "name": "R",
   "pygments_lexer": "r",
   "version": "3.2.3"
  }
 },
 "nbformat": 4,
 "nbformat_minor": 0
}
